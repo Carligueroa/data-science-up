{
 "cells": [
  {
   "cell_type": "code",
   "execution_count": 17,
   "id": "66fd7328-4c95-4d01-b088-c5efefcdab4a",
   "metadata": {
    "tags": []
   },
   "outputs": [],
   "source": [
    "import os\n",
    "\n",
    "import pandas as pd\n",
    "import polars as pl\n",
    "import polars.selectors as cs\n",
    "from matplotlib import pyplot as plt\n",
    "import numpy as np\n",
    "\n",
    "from sklearn.preprocessing import OrdinalEncoder\n",
    "from sklearn.impute import SimpleImputer\n",
    "\n",
    "from sklearn.ensemble import ExtraTreesClassifier\n",
    "from sklearn.experimental import enable_halving_search_cv\n",
    "\n",
    "from catboost import CatBoostClassifier\n",
    "\n",
    "from sklearn.model_selection import train_test_split, HalvingRandomSearchCV, RandomizedSearchCV, GridSearchCV\n",
    "from sklearn.pipeline import Pipeline\n",
    "from sklearn.compose import ColumnTransformer\n",
    "\n",
    "from scipy.stats import randint, uniform\n",
    "from sklearn.metrics import make_scorer, average_precision_score\n",
    "\n",
    "\n",
    "from sklearn.impute import SimpleImputer\n",
    "from optuna import Trial\n"
   ]
  },
  {
   "cell_type": "code",
   "execution_count": 18,
   "id": "eee39f75-4e75-47ae-b143-88e7f6997b4e",
   "metadata": {
    "tags": []
   },
   "outputs": [],
   "source": [
    "TARGET = ['target']\n",
    "TRAIN_DATA_PATH = os.path.join('data', 'first_100k.parquet')\n",
    "TEST_DATA_PATH = os.path.join('data', 'second_100k_variables.parquet')"
   ]
  },
  {
   "cell_type": "code",
   "execution_count": 19,
   "id": "454303b9-2989-4c36-8fa2-325f65cb20c3",
   "metadata": {
    "tags": []
   },
   "outputs": [],
   "source": [
    "df = pl.scan_parquet(TRAIN_DATA_PATH).collect()"
   ]
  },
  {
   "cell_type": "markdown",
   "id": "ea8ac3f2",
   "metadata": {},
   "source": [
    "# LightGBM Model"
   ]
  },
  {
   "cell_type": "code",
   "execution_count": 41,
   "id": "2e93727e-d1a1-4749-af53-fed9deb93246",
   "metadata": {
    "tags": []
   },
   "outputs": [],
   "source": [
    "from lightgbm import LGBMClassifier\n",
    "\n",
    "lgbm_ = LGBMClassifier(verbose=0)"
   ]
  },
  {
   "cell_type": "code",
   "execution_count": 21,
   "id": "32952382-f64e-4cfc-bdba-7b3d664055a7",
   "metadata": {
    "tags": []
   },
   "outputs": [],
   "source": [
    "def optimize_numeric_column(df : pl.DataFrame, column_name : str) -> pl.DataFrame:\n",
    "    \n",
    "    # Extract the column from the DataFrame\n",
    "    column = df[column_name]\n",
    "\n",
    "    # Get the column data type\n",
    "    dtype = column.dtype()\n",
    "\n",
    "    int_types = {\n",
    "        pl.UInt8: {0, 255},\n",
    "        pl.UInt16: {0, 65535},\n",
    "        pl.UInt32: {0, 4294967295},\n",
    "        pl.UInt64: {0, 18446744073709551615},\n",
    "        pl.Int8: {-128, 128},\n",
    "        pl.Int16: {-32768, 32768},\n",
    "        pl.Int32: {-2147483648, 2147483648},\n",
    "        pl.Int64: {-9223372036854775808, 9223372036854775808}\n",
    "    }\n",
    "\n",
    "    if dtype in int_types:\n",
    "        # Convert integer column to smaller integer types if possible\n",
    "        column_min = column.min()\n",
    "        column_max = column.max()\n",
    "        \n",
    "        if column_min is not None and column_max is not None:\n",
    "            for int_type in int_types:\n",
    "                int_min = min(int_types.get(int_type))\n",
    "                int_max = max(int_types.get(int_type))\n",
    "\n",
    "                if column_min >= int_min and column_max <= int_max:\n",
    "                    column = column.cast(int_type)\n",
    "                    break\n",
    "\n",
    "    # Update the column in the DataFrame\n",
    "    return df.drop(column_name).with_columns(column).select(df.columns)"
   ]
  },
  {
   "cell_type": "code",
   "execution_count": 22,
   "id": "5f34d17e-4482-4771-9667-c6941db23eda",
   "metadata": {
    "tags": []
   },
   "outputs": [],
   "source": [
    "categorical_columns = df.select(~cs.by_dtype(pl.NUMERIC_DTYPES)).columns\n",
    "numerical_columns = [\n",
    "    column for column in df.select(cs.by_dtype(pl.NUMERIC_DTYPES)).columns if column!='target' and column!='index'\n",
    "]"
   ]
  },
  {
   "cell_type": "code",
   "execution_count": 23,
   "id": "0d7f0bd4-8cd8-41ce-bfd5-b622265ac9cb",
   "metadata": {
    "tags": []
   },
   "outputs": [],
   "source": [
    "X = df.select(numerical_columns+categorical_columns).to_pandas()\n",
    "y = df.select(TARGET).to_pandas().values.ravel()\n",
    "\n",
    "X_train, X_test, y_train, y_test = train_test_split(X, y, shuffle=True, random_state=0)\n",
    "\n",
    "del df"
   ]
  },
  {
   "cell_type": "code",
   "execution_count": null,
   "id": "cb293425-fc66-4c0b-8b3c-1891f9c360e8",
   "metadata": {},
   "outputs": [],
   "source": []
  },
  {
   "cell_type": "markdown",
   "id": "98345623-0f40-4ad1-9f08-32cf23354388",
   "metadata": {},
   "source": [
    "## Optuna preprocessing\n",
    "\n",
    "Ignorar el código del `ExtraTreesClassifier`, lo dejé como referencia para fijarme de los trial.suggest_"
   ]
  },
  {
   "cell_type": "code",
   "execution_count": 69,
   "id": "cbd20ea9",
   "metadata": {},
   "outputs": [],
   "source": [
    "# from sklearn.ensemble import ExtraTreesClassifier\n",
    "\n",
    "# def instantiate_extra_trees(trial : Trial) -> ExtraTreesClassifier:\n",
    "#   params = {\n",
    "#     'n_estimators': trial.suggest_int('n_estimators', 50, 1000),\n",
    "#     'max_depth': trial.suggest_int('max_depth', 1, 20),\n",
    "#     'max_features': trial.suggest_float('max_features', 0, 1),\n",
    "#     'bootstrap': trial.suggest_categorical('bootstrap', [True, False]),\n",
    "#     'n_jobs': -1,\n",
    "#     'random_state': 42\n",
    "#   }\n",
    "#   return ExtraTreesClassifier(**params)\n",
    "\n",
    "\n",
    "from lightgbm import LGBMClassifier\n",
    "\n",
    "\n",
    "def instantiate_lightgbm(trial: Trial) -> LGBMClassifier:\n",
    "  params = {\n",
    "    'n_estimators': trial.suggest_int('n_estimators', 50, 1_000),\n",
    "    'max_depth': trial.suggest_int('max_depth', 1, 20),\n",
    "    'n_leaves': trial.suggest_int('num_leaves', 2, 100),\n",
    "    'random_state': 0\n",
    "  }\n",
    "  return LGBMClassifier(**params)"
   ]
  },
  {
   "cell_type": "code",
   "execution_count": 61,
   "id": "ce369f4d-3d59-42de-a6df-3678a8d37aa2",
   "metadata": {},
   "outputs": [],
   "source": [
    "from sklearn.impute import SimpleImputer\n",
    "from optuna import Trial\n",
    "\n",
    "def instantiate_numerical_simple_imputer(trial : Trial, fill_value : int=-1) -> SimpleImputer:\n",
    "  strategy = trial.suggest_categorical(\n",
    "    'numerical_strategy', ['mean', 'median', 'most_frequent', 'constant']\n",
    "  )\n",
    "  return SimpleImputer(strategy=strategy, fill_value=fill_value)\n",
    "\n",
    "def instantiate_categorical_simple_imputer(trial : Trial, fill_value : str='missing') -> SimpleImputer:\n",
    "  strategy = trial.suggest_categorical(\n",
    "    'categorical_strategy', ['most_frequent', 'constant']\n",
    "  )\n",
    "  return SimpleImputer(strategy=strategy, fill_value=fill_value)"
   ]
  },
  {
   "cell_type": "code",
   "execution_count": 62,
   "id": "bc106258-5e51-4705-aebe-dec932804a03",
   "metadata": {},
   "outputs": [],
   "source": [
    "from category_encoders import WOEEncoder\n",
    "\n",
    "def instantiate_woe_encoder(trial : Trial) -> WOEEncoder:\n",
    "  params = {\n",
    "    'sigma': trial.suggest_float('sigma', 0.001, 5),\n",
    "    'regularization': trial.suggest_float('regularization', 0, 5),\n",
    "    'randomized': trial.suggest_categorical('randomized', [True, False])\n",
    "  }\n",
    "  return WOEEncoder(**params)"
   ]
  },
  {
   "cell_type": "code",
   "execution_count": 63,
   "id": "bb69f34e",
   "metadata": {},
   "outputs": [],
   "source": [
    "from sklearn.preprocessing import RobustScaler\n",
    "\n",
    "def instantiate_robust_scaler(trial : Trial) -> RobustScaler:\n",
    "  params = {\n",
    "    'with_centering': trial.suggest_categorical(\n",
    "      'with_centering', [True, False]\n",
    "    ),\n",
    "    'with_scaling': trial.suggest_categorical(\n",
    "      'with_scaling', [True, False]\n",
    "    )\n",
    "  }\n",
    "  return RobustScaler(**params)"
   ]
  },
  {
   "cell_type": "markdown",
   "id": "51cf6a5f",
   "metadata": {},
   "source": [
    "## Pipeline"
   ]
  },
  {
   "cell_type": "code",
   "execution_count": 64,
   "id": "457eef73-aae9-470e-9b7b-efdf0e1a297f",
   "metadata": {},
   "outputs": [],
   "source": [
    "from sklearn.pipeline import Pipeline\n",
    "\n",
    "def instantiate_numerical_pipeline(trial : Trial) -> Pipeline:\n",
    "  pipeline = Pipeline([\n",
    "    ('imputer', instantiate_numerical_simple_imputer(trial)),\n",
    "    ('scaler', instantiate_robust_scaler(trial))\n",
    "  ])\n",
    "  return pipeline\n",
    "\n",
    "def instantiate_categorical_pipeline(trial : Trial) -> Pipeline:\n",
    "  pipeline = Pipeline([\n",
    "    ('imputer', instantiate_categorical_simple_imputer(trial)),\n",
    "    ('encoder', instantiate_woe_encoder(trial)),\n",
    "  ])\n",
    "  return pipeline\n",
    "\n"
   ]
  },
  {
   "cell_type": "code",
   "execution_count": 70,
   "id": "0db59aae",
   "metadata": {},
   "outputs": [],
   "source": [
    "def instantiate_processor(trial : Trial, numerical_columns : list[str], categorical_columns : list[str]) -> ColumnTransformer:\n",
    "  \n",
    "  numerical_pipeline = instantiate_numerical_pipeline(trial)\n",
    "  categorical_pipeline = instantiate_categorical_pipeline(trial)\n",
    "  \n",
    "  processor = ColumnTransformer([\n",
    "    ('numerical_pipeline', numerical_pipeline, numerical_columns),\n",
    "    ('categorical_pipeline', categorical_pipeline, categorical_columns)\n",
    "  ])\n",
    "  \n",
    "  return processor\n",
    "\n",
    "def instantiate_model(trial : Trial, numerical_columns : list[str], categorical_columns : list[str]) -> Pipeline:\n",
    "  \n",
    "  processor = instantiate_processor(\n",
    "    trial, numerical_columns, categorical_columns\n",
    "  )\n",
    "  lightgbm = instantiate_lightgbm(trial)\n",
    "  \n",
    "  model = Pipeline([\n",
    "    ('processor', processor),\n",
    "    ('lightgbm', lightgbm)\n",
    "  ])\n",
    "  \n",
    "  return model"
   ]
  },
  {
   "cell_type": "markdown",
   "id": "9c6b8997",
   "metadata": {},
   "source": [
    "## Objective Function"
   ]
  },
  {
   "cell_type": "code",
   "execution_count": 66,
   "id": "7a4a5322",
   "metadata": {},
   "outputs": [],
   "source": [
    "from typing import Optional\n",
    "from sklearn.model_selection import cross_val_score, KFold\n",
    "from sklearn.metrics import roc_auc_score, make_scorer\n",
    "from pandas import DataFrame, Series\n",
    "import numpy as np\n",
    "\n",
    "\n",
    "def objective(trial : Trial, X : DataFrame, y : np.ndarray | Series, numerical_columns : Optional[list[str]]=None, categorical_columns : Optional[list[str]]=None, random_state : int=42) -> float:\n",
    "  if numerical_columns is None:\n",
    "    numerical_columns = [\n",
    "      *X.select_dtypes(exclude=['object', 'category']).columns\n",
    "    ]\n",
    "  \n",
    "  if categorical_columns is None:\n",
    "    categorical_columns = [\n",
    "      *X.select_dtypes(include=['object', 'category']).columns\n",
    "    ]\n",
    "  \n",
    "  model = instantiate_model(trial, numerical_columns, categorical_columns)\n",
    "  \n",
    "  kf = KFold(n_splits=5, shuffle=True, random_state=random_state)\n",
    "  roc_auc_scorer = make_scorer(roc_auc_score, needs_proba=True)\n",
    "  scores = cross_val_score(model, X, y, scoring=roc_auc_scorer, cv=kf)\n",
    "  \n",
    "  return np.min([np.mean(scores), np.median([scores])])\n",
    "\n"
   ]
  },
  {
   "cell_type": "markdown",
   "id": "dbb5a475",
   "metadata": {},
   "source": [
    "# CORRER ESTO\n",
    "\n",
    "Esto es lo que debería optimizar el study y nos daría los mejores parámetros para el preprocessing y el modelo"
   ]
  },
  {
   "cell_type": "code",
   "execution_count": 71,
   "id": "f595ca0d",
   "metadata": {},
   "outputs": [
    {
     "name": "stderr",
     "output_type": "stream",
     "text": [
      "[I 2024-07-05 19:35:19,543] A new study created in memory with name: optimization-lightgbm\n",
      "/opt/conda/lib/python3.11/site-packages/sklearn/metrics/_scorer.py:610: FutureWarning: The `needs_threshold` and `needs_proba` parameter are deprecated in version 1.4 and will be removed in 1.6. You can either let `response_method` be `None` or set it to `predict` to preserve the same behaviour.\n",
      "  warnings.warn(\n"
     ]
    },
    {
     "ename": "",
     "evalue": "",
     "output_type": "error",
     "traceback": [
      "\u001b[1;31mThe Kernel crashed while executing code in the current cell or a previous cell. \n",
      "\u001b[1;31mPlease review the code in the cell(s) to identify a possible cause of the failure. \n",
      "\u001b[1;31mClick <a href='https://aka.ms/vscodeJupyterKernelCrash'>here</a> for more info. \n",
      "\u001b[1;31mView Jupyter <a href='command:jupyter.viewOutput'>log</a> for further details."
     ]
    },
    {
     "ename": "",
     "evalue": "",
     "output_type": "error",
     "traceback": [
      "\u001b[1;31mCanceled future for execute_request message before replies were done"
     ]
    },
    {
     "ename": "",
     "evalue": "",
     "output_type": "error",
     "traceback": [
      "\u001b[1;31mCanceled future for execute_request message before replies were done. \n",
      "\u001b[1;31mView Jupyter <a href='command:jupyter.viewOutput'>log</a> for further details."
     ]
    }
   ],
   "source": [
    "import optuna\n",
    "\n",
    "lightgbm_study = optuna.create_study(study_name='optimization-lightgbm', direction='maximize')\n",
    "\n",
    "lightgbm_study.optimize(\n",
    "    lambda trial: objective(trial, X_train, y_train),\n",
    "    n_trials=30\n",
    ")\n",
    "\n"
   ]
  },
  {
   "cell_type": "code",
   "execution_count": null,
   "id": "25b2a142",
   "metadata": {},
   "outputs": [],
   "source": []
  },
  {
   "cell_type": "code",
   "execution_count": null,
   "id": "b01fff5b",
   "metadata": {},
   "outputs": [],
   "source": []
  },
  {
   "cell_type": "code",
   "execution_count": null,
   "id": "ecdb98c1",
   "metadata": {},
   "outputs": [],
   "source": []
  },
  {
   "cell_type": "code",
   "execution_count": null,
   "id": "d5e782a7",
   "metadata": {},
   "outputs": [],
   "source": []
  },
  {
   "cell_type": "code",
   "execution_count": null,
   "id": "45b1fb27",
   "metadata": {},
   "outputs": [],
   "source": []
  },
  {
   "cell_type": "code",
   "execution_count": null,
   "id": "8f211354-946c-4005-b5d9-74acf882413d",
   "metadata": {},
   "outputs": [],
   "source": []
  },
  {
   "cell_type": "code",
   "execution_count": null,
   "id": "4f3d475b-1ffc-4bd2-8788-bcf8a1099fc4",
   "metadata": {},
   "outputs": [],
   "source": []
  },
  {
   "cell_type": "code",
   "execution_count": null,
   "id": "b44a1d5e-6d21-4497-88ba-1005986a9662",
   "metadata": {},
   "outputs": [],
   "source": []
  }
 ],
 "metadata": {
  "kernelspec": {
   "display_name": "Python 3 (ipykernel)",
   "language": "python",
   "name": "python3"
  },
  "language_info": {
   "codemirror_mode": {
    "name": "ipython",
    "version": 3
   },
   "file_extension": ".py",
   "mimetype": "text/x-python",
   "name": "python",
   "nbconvert_exporter": "python",
   "pygments_lexer": "ipython3",
   "version": "3.11.9"
  }
 },
 "nbformat": 4,
 "nbformat_minor": 5
}
